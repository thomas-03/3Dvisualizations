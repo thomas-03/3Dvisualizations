{
 "cells": [
  {
   "cell_type": "code",
   "execution_count": 1,
   "id": "9c9d3996",
   "metadata": {},
   "outputs": [],
   "source": [
    "import numpy as np\n",
    "import h5py\n",
    "import sys\n",
    "sys.path.append('/faculty/yyuan/codes/CoffeeGPU/python')\n",
    "import os\n",
    "import toml\n",
    "from mpl_toolkits.axes_grid1 import make_axes_locatable\n",
    "from datalib import Data\n",
    "import math\n",
    "import k3d\n",
    "import time"
   ]
  },
  {
   "cell_type": "code",
   "execution_count": 2,
   "id": "2866f725",
   "metadata": {},
   "outputs": [],
   "source": [
    "import nbformat\n",
    "\n",
    "with open(\"example.ipynb\", \"r\") as file:\n",
    "    nb_corrupted = nbformat.reader.read(file)\n",
    "\n",
    "nbformat.validator.validate(nb_corrupted)\n",
    "# <stdin>:1: MissingIDFieldWarning: Code cell is missing an id field, \n",
    "# this will become a hard error in future nbformat versions. \n",
    "# You may want to use `normalize()` on your notebooks before validations (available since nbformat 5.1.4). \n",
    "# Previous versions of nbformat are fixing this issue transparently, and will stop doing so in the future.\n",
    "\n",
    "nb_fixed = nbformat.validator.normalize(nb_corrupted)\n",
    "nbformat.validator.validate(nb_fixed[1])\n",
    "# Produces no warnings or errors.\n",
    "\n",
    "with open(\"example.ipynb\", \"w\") as file:\n",
    "    nbformat.write(nb_fixed[1], file)"
   ]
  },
  {
   "cell_type": "code",
   "execution_count": 3,
   "id": "fc506115",
   "metadata": {},
   "outputs": [],
   "source": [
    "# import matplotlib\n",
    "# matplotlib.rc('text',usetex=True)\n",
    "# plt.rc('font',**{'family':'serif','serif':['Times'],'size':20})"
   ]
  },
  {
   "cell_type": "code",
   "execution_count": 4,
   "id": "5ff648f3",
   "metadata": {
    "scrolled": true
   },
   "outputs": [],
   "source": [
    "data1=Data('/faculty/yyuan/data/3d_downsample/Data')"
   ]
  },
  {
   "cell_type": "code",
   "execution_count": 5,
   "id": "77409c78",
   "metadata": {},
   "outputs": [
    {
     "name": "stdout",
     "output_type": "stream",
     "text": [
      "['Bx' 'By' 'Bz' 'Ex' 'Ey' 'Ez']\n"
     ]
    }
   ],
   "source": [
    "time10 = h5py.File('/faculty/yyuan/data/3d_downsample/Data/fld.00010.h5','r')\n",
    "time30 = h5py.File('/faculty/yyuan/data/3d_downsample/Data/fld.00030.h5','r')\n",
    "print(np.asarray(time10))"
   ]
  },
  {
   "cell_type": "code",
   "execution_count": 6,
   "id": "6f1f0326",
   "metadata": {},
   "outputs": [
    {
     "name": "stderr",
     "output_type": "stream",
     "text": [
      "/tmp/ipykernel_2901663/3083741011.py:2: DeprecationWarning: `product` is deprecated as of NumPy 1.25.0, and will be removed in NumPy 2.0. Please use `prod` instead.\n",
      "  t0 = np.asarray([np.sqrt(np.square(np.asarray(time0['Bx']))+np.square(np.asarray(time0['By']))+np.square(np.asarray(time0['Bz']))), np.asarray(time0['Bx']), np.asarray(time0['By']), np.asarray(time0['Bz']),np.sqrt(np.square(np.asarray(time0['Ex']))+np.square(np.asarray(time0['Ey']))+np.square(np.asarray(time0['Ez'])))])\n"
     ]
    }
   ],
   "source": [
    "time0 = h5py.File('/faculty/yyuan/data/3d_downsample/Data/fld.00000.h5','r')\n",
    "t0 = np.asarray([np.sqrt(np.square(np.asarray(time0['Bx']))+np.square(np.asarray(time0['By']))+np.square(np.asarray(time0['Bz']))), np.asarray(time0['Bx']), np.asarray(time0['By']), np.asarray(time0['Bz']),np.sqrt(np.square(np.asarray(time0['Ex']))+np.square(np.asarray(time0['Ey']))+np.square(np.asarray(time0['Ez'])))])"
   ]
  },
  {
   "cell_type": "code",
   "execution_count": 7,
   "id": "ed7b14f3",
   "metadata": {},
   "outputs": [
    {
     "name": "stderr",
     "output_type": "stream",
     "text": [
      "/tmp/ipykernel_2901663/3991194904.py:1: DeprecationWarning: `product` is deprecated as of NumPy 1.25.0, and will be removed in NumPy 2.0. Please use `prod` instead.\n",
      "  t10 = np.asarray([np.sqrt(np.square(np.asarray(time10['Bx']))+np.square(np.asarray(time10['By']))+np.square(np.asarray(time10['Bz']))), np.asarray(time10['Bx']), np.asarray(time10['By']), np.asarray(time10['Bz']),np.sqrt(np.square(np.asarray(time10['Ex']))+np.square(np.asarray(time10['Ey']))+np.square(np.asarray(time10['Ez'])))])\n",
      "/tmp/ipykernel_2901663/3991194904.py:3: DeprecationWarning: `product` is deprecated as of NumPy 1.25.0, and will be removed in NumPy 2.0. Please use `prod` instead.\n",
      "  t30 = np.asarray([np.sqrt(np.square(np.asarray(time30['Bx']))+np.square(np.asarray(time30['By']))+np.square(np.asarray(time30['Bz']))), np.asarray(time30['Bx']), np.asarray(time30['By']), np.asarray(time30['Bz'])])\n"
     ]
    }
   ],
   "source": [
    "t10 = np.asarray([np.sqrt(np.square(np.asarray(time10['Bx']))+np.square(np.asarray(time10['By']))+np.square(np.asarray(time10['Bz']))), np.asarray(time10['Bx']), np.asarray(time10['By']), np.asarray(time10['Bz']),np.sqrt(np.square(np.asarray(time10['Ex']))+np.square(np.asarray(time10['Ey']))+np.square(np.asarray(time10['Ez'])))])\n",
    "#t20 = np.asarray([np.sqrt(np.square(np.asarray(time20['Bx']))+np.square(np.asarray(time20['By']))+np.square(np.asarray(time20['Bz']))), np.asarray(time20['Bx']), np.asarray(time20['By']), np.asarray(time20['Bz'])])\n",
    "t30 = np.asarray([np.sqrt(np.square(np.asarray(time30['Bx']))+np.square(np.asarray(time30['By']))+np.square(np.asarray(time30['Bz']))), np.asarray(time30['Bx']), np.asarray(time30['By']), np.asarray(time30['Bz'])])\n",
    "#t40 = np.asarray([np.sqrt(np.square(np.asarray(time40['Bx']))+np.square(np.asarray(time40['By']))+np.square(np.asarray(time40['Bz']))), np.asarray(time40['Bx']), np.asarray(time40['By']), np.asarray(time40['Bz'])])\n",
    "#t33 = np.asarray([np.sqrt(np.square(np.asarray(time33['Bx']))+np.square(np.asarray(time33['By']))+np.square(np.asarray(time33['Bz']))), np.asarray(time33['Bx']), np.asarray(time33['By']), np.asarray(time33['Bz'])])\n",
    "#t34 = np.asarray([np.sqrt(np.square(np.asarray(time34['Bx']))+np.square(np.asarray(time34['By']))+np.square(np.asarray(time34['Bz']))), np.asarray(time34['Bx']), np.asarray(time34['By']), np.asarray(time34['Bz'])])\n",
    "#t36 = np.asarray([np.sqrt(np.square(np.asarray(time36['Bx']))+np.square(np.asarray(time36['By']))+np.square(np.asarray(time36['Bz']))), np.asarray(time36['Bx']), np.asarray(time36['By']), np.asarray(time36['Bz'])])\n",
    "#t39 = np.asarray([np.sqrt(np.square(np.asarray(time39['Bx']))+np.square(np.asarray(time39['By']))+np.square(np.asarray(time39['Bz']))), np.asarray(time39['Bx']), np.asarray(time39['By']), np.asarray(time39['Bz'])])"
   ]
  },
  {
   "cell_type": "markdown",
   "id": "cb93b03a",
   "metadata": {},
   "source": [
    "Data Set Notes:\n",
    "The data contains information about a cube of space where at the origin there's a star of radius 1. \n",
    "The star has a solar quake which causes perturbations in the magnetic field and a wave to go. Close to the star there's a dipole field, but it drops off as a function of r^-3 and so once you get further away eventually the wave becomes dominant and you get ejecta. \n",
    "Data is set up in z, y, x order."
   ]
  },
  {
   "cell_type": "code",
   "execution_count": 8,
   "id": "92d47090",
   "metadata": {},
   "outputs": [],
   "source": [
    "nz,ny,nx = data1.Bx.shape\n",
    "\n",
    "xmin=data1.conf['lower'][0]\n",
    "ymin=data1.conf['lower'][1]\n",
    "zmin=data1.conf['lower'][2]\n",
    "\n",
    "sizex=data1.conf['size'][0]\n",
    "sizey=data1.conf['size'][1]\n",
    "sizez=data1.conf['size'][2]\n",
    "\n",
    "xmax=xmin+sizex\n",
    "ymax=ymin+sizey\n",
    "zmax=zmin+sizez\n",
    "\n",
    "dx=sizex/nx\n",
    "dy=sizey/ny\n",
    "dz=sizez/nz\n",
    "\n",
    "#has the different x, y, and z values that are possible\n",
    "x0=np.arange(xmin,xmax,dx)\n",
    "y0=np.arange(ymin,ymax,dy)\n",
    "z0=np.arange(zmin,zmax,dz)\n"
   ]
  },
  {
   "cell_type": "code",
   "execution_count": 9,
   "id": "59260f71",
   "metadata": {},
   "outputs": [
    {
     "name": "stdout",
     "output_type": "stream",
     "text": [
      "330\n",
      "320\n",
      "320\n"
     ]
    }
   ],
   "source": [
    "print(nz)\n",
    "print(ny)\n",
    "print(nx)"
   ]
  },
  {
   "cell_type": "code",
   "execution_count": 10,
   "id": "3d3f9a1c",
   "metadata": {},
   "outputs": [],
   "source": [
    "#Finds the index in an array whose value is closest to the value you input\n",
    "def find_nearest_index(array, value):\n",
    "    array = np.asarray(array)\n",
    "    idx = np.argmin((np.abs(array - value)))\n",
    "    return idx"
   ]
  },
  {
   "cell_type": "code",
   "execution_count": 11,
   "id": "4b74641b",
   "metadata": {},
   "outputs": [],
   "source": [
    "#Finds the value in an array closest to the value you input\n",
    "def find_nearest_value(array, value):\n",
    "    array = np.asarray(array)\n",
    "    idx = np.argmin(np.abs(array - value))\n",
    "    return array[idx]"
   ]
  },
  {
   "cell_type": "code",
   "execution_count": 12,
   "id": "1f7859c2",
   "metadata": {},
   "outputs": [],
   "source": [
    "def find_idx_above_below(x,y,z):\n",
    "    nearx0 = find_nearest_index(x0,x)\n",
    "    neary0 = find_nearest_index(y0,y)\n",
    "    nearz0 = find_nearest_index(z0,z)\n",
    "    #need to include cases where at the bounds \n",
    "    if(nearx0<= x0.size-1):\n",
    "        rx = nearx0\n",
    "        lx = nearx0 - 1\n",
    "    elif(nearx0 >= 0):\n",
    "        lx = 0\n",
    "        rx = 1\n",
    "    elif(x0[nearx0]>x):\n",
    "        rx = nearx0\n",
    "        lx = nearx0-1\n",
    "    elif(x0[nearx0]<=x):\n",
    "        lx = nearx0\n",
    "        rx = nearx0+1\n",
    "        \n",
    "    if(neary0<= y0.size-1):\n",
    "        ry = neary0\n",
    "        ly = neary0 - 1\n",
    "    elif(neary0 >= 0):\n",
    "        ly = 0\n",
    "        ry = 1    \n",
    "    elif(y0[neary0]>y):\n",
    "        ry = neary0\n",
    "        ly = neary0-1\n",
    "    elif(y0[neary0]<=y):\n",
    "        ly = neary0\n",
    "        ry = neary0+1\n",
    "        \n",
    "    if(nearz0<= z0.size-1):\n",
    "        rz = nearz0\n",
    "        lz = nearz0 - 1\n",
    "    elif(nearz0 >= 0):\n",
    "        lz = 0\n",
    "        rz = 1\n",
    "    elif(z0[nearz0]>z):\n",
    "        rz = nearz0\n",
    "        lz = nearz0-1\n",
    "    elif(z0[nearz0]<=z):\n",
    "        lz = nearz0\n",
    "        rz = nearz0+1\n",
    "        \n",
    "    return lx, rx, ly, ry, lz, rz\n",
    "        "
   ]
  },
  {
   "cell_type": "code",
   "execution_count": 13,
   "id": "248c8912",
   "metadata": {},
   "outputs": [],
   "source": [
    "#3D Linear Interpolation of the array value of a point\n",
    "def interpolate(h, val_array, x, y, z):\n",
    "    val_array = np.asarray(val_array)\n",
    "    lx, rx, ly, ry, lz, rz = find_idx_above_below(x,y,z)\n",
    "    \n",
    "    c000 = val_array[lz,ly,lx]\n",
    "    c100 = val_array[lz,ly,rx]\n",
    "    c110 = val_array[lz,ry,rx]\n",
    "    c010 = val_array[lz,ry,lx]\n",
    "    \n",
    "    c001 = val_array[rz,ly,lx]\n",
    "    c011 = val_array[rz,ry,lx]\n",
    "    c111 = val_array[rz,ry,rx]\n",
    "    c101 = val_array[rz,ly,rx]\n",
    "    \n",
    "    return c000 *((1-h)**3) + (c100+c010+c001)*((1-h)**2)*h + (c101+c011+c110)*(1-h)*(h**2) + c111*(h**3)\n",
    "    \n",
    "    "
   ]
  },
  {
   "cell_type": "code",
   "execution_count": 14,
   "id": "c037d1fc",
   "metadata": {},
   "outputs": [],
   "source": [
    "def eulerIntegrate(x, y, z, ns, B, Bx, By, Bz):\n",
    "    for i in range(0,ns):\n",
    "        B0= interpolate(dx,B,x[i],y[i],z[i])\n",
    "        \n",
    "        x.append(x[i] + (interpolate(dx,Bx,x[i],y[i],z[i])*dx)/B0)\n",
    "        \n",
    "        y.append(y[i] + (interpolate(dy,By,x[i],y[i],z[i])*dy)/B0)\n",
    "        \n",
    "        z.append(z[i] + (interpolate(dz,Bz,x[i],y[i],z[i])*dz)/B0)\n",
    "            \n",
    "        if(x[i+1]<=xmin or x[i+1]>=xmax or y[i+1]<=ymin or y[i+1]>=ymax or z[i+1]<=zmin or z[i+1]>=zmax):\n",
    "            x.pop()\n",
    "            y.pop()\n",
    "            z.pop()\n",
    "            #    print('neg x')\n",
    "            break\n",
    "            #elif(x[i+1]>x[i]):\n",
    "             #   print('x increasing')\n",
    "    vertices=np.transpose(np.array([x,y,z]))\n",
    "    return vertices"
   ]
  },
  {
   "cell_type": "code",
   "execution_count": 15,
   "id": "1d45db1d",
   "metadata": {},
   "outputs": [],
   "source": [
    "def getVertices(time,h,thLoops,phiLoops,twistThLoops,twistPhiLoops,currThLoops):\n",
    "    si=0\n",
    "    sf=100\n",
    "    ns = int((sf-si)/h)\n",
    "    mainVertices = []\n",
    "    twistVertices = []\n",
    "    currVertices = []\n",
    "    \n",
    "  \n",
    "    for th in np.linspace(0,np.pi/4,thLoops):\n",
    "     \n",
    "        for phi in np.linspace(-np.pi/2,np.pi/2,phiLoops):\n",
    "            x=[]\n",
    "            y=[]\n",
    "            z=[]\n",
    "        \n",
    "            x.append(np.sin(th)*np.cos(phi))\n",
    "            y.append(np.sin(th)*np.sin(phi))\n",
    "            z.append(np.cos(th))\n",
    "        \n",
    "            mainVertices.append(eulerIntegrate(x,y,z,ns, time[0],time[1],time[2],time[3])) \n",
    "\n",
    "    for th in np.linspace(0.35,0.45,twistThLoops):\n",
    "     \n",
    "        for phi in np.linspace(-np.pi/12,np.pi/4,twistPhiLoops):\n",
    "            x=[]\n",
    "            y=[]\n",
    "            z=[]\n",
    "        \n",
    "            x.append(np.sin(th)*np.cos(phi))\n",
    "            y.append(np.sin(th)*np.sin(phi))\n",
    "            z.append(np.cos(th))\n",
    "        \n",
    "            twistVertices.append(eulerIntegrate(x,y,z,ns, time[0],time[1],time[2],time[3]))\n",
    " \n",
    "    for th in np.linspace(np.pi/4,np.pi/2,currThLoops):\n",
    "        x=[]\n",
    "        y=[]\n",
    "        z=[]\n",
    "        \n",
    "        x.append(np.sin(th))\n",
    "        y.append(0)\n",
    "        z.append(1.5)\n",
    "        \n",
    "        currVertices.append(eulerIntegrate(x,y,z,ns, time[0],time[1],time[2],time[3]))\n",
    " \n",
    "        \n",
    "    \n",
    "    return [mainVertices,twistVertices,currVertices]\n"
   ]
  },
  {
   "cell_type": "markdown",
   "id": "1861a70e",
   "metadata": {},
   "source": [
    "Next Steps: \n",
    "- attempt to do the Euler integration with init points going around a hemisphere of r=1\n",
    "- decrease the step size to 0.1 & use linear interpolation to approximate the magnetic field components between grid points"
   ]
  },
  {
   "cell_type": "markdown",
   "id": "d05058ee",
   "metadata": {},
   "source": [
    "Euler Integration Implementation with Near-Origin Init Points\n",
    "\n",
    "\n",
    "Basically we have a range of initial values for x, y, and z and then we loop through these ranges to get a variety of initPoints \n",
    "Still working on where those initial points should be \n",
    "\n",
    "Idea: we have a lot of behavior at the yz plane so that would be a good place to get most of the init points (it would be near the top of the sphere, have x=0 and then range for y and z   --> this results in only getting image along x=0 no matter what\n",
    "limiting the range of x, specifically 0 to 1, seems to be performing well\n",
    "\n",
    "Generally limiting the ranges produces better resolution near center which is expected \n",
    "Idea: try to combine this better limited range near center with still having other points farther out "
   ]
  },
  {
   "cell_type": "code",
   "execution_count": 20,
   "id": "e52491e1",
   "metadata": {},
   "outputs": [
    {
     "data": {
      "application/vnd.jupyter.widget-view+json": {
       "model_id": "0e71c1433c314eb489029ba15142ff20",
       "version_major": 2,
       "version_minor": 0
      },
      "text/plain": [
       "Output()"
      ]
     },
     "metadata": {},
     "output_type": "display_data"
    }
   ],
   "source": [
    "plot=k3d.plot(grid=(xmin,ymin,zmin,xmax,ymax,zmax))\n",
    "\n",
    "\n",
    "twistthLoops = 3\n",
    "twistphiLoops = 3\n",
    "currthLoops = 6\n",
    "\n",
    "#sphere = np.empty([thLoops,phiLoops], dtype = object)\n",
    "twisty = np.empty([twistthLoops, twistphiLoops],dtype=object)\n",
    "midcurr = np.empty([currthLoops],dtype=object)\n",
    "\n",
    "#spherePics = np.empty([thLoops,phiLoops], dtype = dict)\n",
    "twistPics = np.empty([twistthLoops, twistphiLoops],dtype=dict)\n",
    "currPics = np.empty([currthLoops],dtype=dict)\n",
    "vertices = getVertices(t30,0.05,0,0,twistthLoops,twistphiLoops,currthLoops)\n",
    "\n",
    "\n",
    "i=0  \n",
    "for th in range(0,twistthLoops):\n",
    "    for phi in range(0,twistphiLoops):\n",
    "        twisty[th,phi] = k3d.line(vertices[1][i],shader='mesh',color=0x028260, width=0.05, opacity=0.5)\n",
    "        twistPics[th,phi] = dict({0:vertices[1][i]})\n",
    "        i=i+1\n",
    "\n",
    "n=0\n",
    "for th in range(0,currthLoops):\n",
    "    midcurr[n] = k3d.line(vertices[2][n],shader='mesh',color=0x028260,width=0.05,opacity=0.5)\n",
    "    currPics[n] = dict({0:vertices[2][n]})\n",
    "    n=n+1\n",
    "\n",
    "\n",
    "plot+=twisty.sum()\n",
    "plot+=k3d.points([0,0,0],point_size=2.0, color=0xa92f63,shader='3d')\n",
    "plot+=k3d.points([40,25,25],point_size=2.0, color=0xa92f63,shader='3d',opacity=0.01)\n",
    "#plot.snapshot_type = 'online'\n",
    "plot.display()\n",
    "\n",
    "#data = plot.get_snapshot()\n",
    "\n",
    "#with open('snapshot_online.html', 'w') as f:\n",
    "#    f.write(data)"
   ]
  },
  {
   "cell_type": "markdown",
   "id": "040a10fa-ba53-44bc-831f-5ec43b35e41b",
   "metadata": {},
   "source": [
    "## make a video"
   ]
  },
  {
   "cell_type": "code",
   "execution_count": 44,
   "id": "323fc342-9bb3-4578-83ee-d854a14d8e07",
   "metadata": {},
   "outputs": [
    {
     "data": {
      "application/vnd.jupyter.widget-view+json": {
       "model_id": "b34a41ecaec7425bac738e92177538cb",
       "version_major": 2,
       "version_minor": 0
      },
      "text/plain": [
       "Output()"
      ]
     },
     "metadata": {},
     "output_type": "display_data"
    },
    {
     "name": "stdout",
     "output_type": "stream",
     "text": [
      "1\n"
     ]
    },
    {
     "name": "stderr",
     "output_type": "stream",
     "text": [
      "/tmp/ipykernel_2864441/2010079347.py:40: DeprecationWarning: `product` is deprecated as of NumPy 1.25.0, and will be removed in NumPy 2.0. Please use `prod` instead.\n",
      "  snap = np.asarray([np.sqrt(np.square(np.asarray(snap['Bx']))+np.square(np.asarray(snap['By']))+np.square(np.asarray(snap['Bz']))), np.asarray(snap['Bx']), np.asarray(snap['By']), np.asarray(snap['Bz']),np.sqrt(np.square(np.asarray(snap['Ex']))+np.square(np.asarray(snap['Ey']))+np.square(np.asarray(snap['Ez'])))])\n"
     ]
    },
    {
     "name": "stdout",
     "output_type": "stream",
     "text": [
      "2\n",
      "3\n",
      "4\n",
      "5\n",
      "6\n",
      "7\n",
      "8\n",
      "9\n",
      "10\n",
      "11\n",
      "12\n",
      "13\n",
      "14\n",
      "15\n"
     ]
    }
   ],
   "source": [
    "plot=k3d.plot(grid=(xmin,ymin,zmin,xmax,ymax,zmax))\n",
    "\n",
    "\n",
    "twistthLoops = 3\n",
    "twistphiLoops = 3\n",
    "currthLoops = 3\n",
    "timeStep = 15\n",
    "\n",
    "#sphere = np.empty([thLoops,phiLoops], dtype = object)\n",
    "twisty = np.empty([twistthLoops, twistphiLoops],dtype=object)\n",
    "midcurr = np.empty([currthLoops],dtype=object)\n",
    "\n",
    "#spherePics = np.empty([thLoops,phiLoops], dtype = dict)\n",
    "twistPics = np.empty([twistthLoops, twistphiLoops],dtype=dict)\n",
    "currPics = np.empty([currthLoops],dtype=dict)\n",
    "vertices = getVertices(t0,0.05,0,0,twistthLoops,twistphiLoops,currthLoops)\n",
    "\n",
    "i=0  \n",
    "for th in range(0,twistthLoops):\n",
    "    for phi in range(0,twistphiLoops):\n",
    "        twisty[th,phi] = k3d.line(vertices[1][i],shader='mesh',color=0x028260, width=0.05, opacity=0.5)\n",
    "        twistPics[th,phi] = dict({0:vertices[1][i]})\n",
    "        i=i+1\n",
    "\n",
    "n=0\n",
    "for th in range(0,currthLoops):\n",
    "    midcurr[n] = k3d.line(vertices[2][n],shader='mesh',color=0x028260,width=0.05,opacity=0.5)\n",
    "    currPics[n] = dict({0:vertices[2][n]})\n",
    "    n=n+1\n",
    "\n",
    "plot+=twisty.sum()\n",
    "plot+=midcurr.sum()\n",
    "plot+=k3d.points([0,0,0],point_size=2.0, color=0xa92f63,shader='3d')\n",
    "plot+=k3d.points([40,25,25],point_size=2.0, color=0xa92f63,shader='3d',opacity=0.01)\n",
    "plot.display()   \n",
    "\n",
    "for t in range(1,timeStep+1):\n",
    "    print(t)\n",
    "    snap = h5py.File('/faculty/yyuan/data/3d_downsample/Data/fld.000'+\"{:02d}\".format(t)+\".h5\",'r')\n",
    "    snap = np.asarray([np.sqrt(np.square(np.asarray(snap['Bx']))+np.square(np.asarray(snap['By']))+np.square(np.asarray(snap['Bz']))), np.asarray(snap['Bx']), np.asarray(snap['By']), np.asarray(snap['Bz']),np.sqrt(np.square(np.asarray(snap['Ex']))+np.square(np.asarray(snap['Ey']))+np.square(np.asarray(snap['Ez'])))])\n",
    "    vertices = getVertices(snap,0.05,0,0,twistthLoops,twistphiLoops,currthLoops)\n",
    "\n",
    "    i=0  \n",
    "    for th in range(0,twistthLoops):\n",
    "        for phi in range(0,twistphiLoops):\n",
    "            twistPics[th,phi][t-1] = vertices[1][i]\n",
    "            i=i+1\n",
    "    n=0\n",
    "    for th in range(0,currthLoops):\n",
    "        currPics[n][t-1]=vertices[2][n]\n",
    "        n=n+1\n",
    "\n",
    "\n",
    "for th in range(0,twistthLoops):\n",
    "    for phi in range(0,twistphiLoops):\n",
    "        twisty[th,phi].vertices = twistPics[th,phi]\n",
    "\n",
    "for th in range(0,currthLoops):\n",
    "    midcurr[th].vertices = currPics[th]"
   ]
  },
  {
   "cell_type": "markdown",
   "id": "b91bfe3b",
   "metadata": {},
   "source": [
    "# Euler Integration Implementation with Random Init Points\n",
    "\n",
    "Same as above, but for the init points we have a random distribution for x, y, and z. x has a uniform * poisson distribution. y and z have a uniform * normal distribution.\n",
    "Also still playing around with the distribution and initial points\n",
    "\n",
    "Idea: Use the other vers to get some central points to get good definition there, and then use this for outer points to show farther away behavior "
   ]
  },
  {
   "cell_type": "markdown",
   "id": "1ea7620a",
   "metadata": {},
   "source": [
    "def randVertices(time,h,initPoints):\n",
    "    si=0\n",
    "    sf=100\n",
    "    ns = int((sf-si)/h)\n",
    "\n",
    "    currVertices = []\n",
    "    \n",
    "    np.random.seed(6)\n",
    "    norm_unif_x = np.random.uniform(10,20,initPoints) * np.random.power(3.0,size=initPoints)\n",
    "    norm_unif_y = np.random.uniform(-10.0,10,initPoints) #* np.random.normal(loc=0, scale=1.0, size=initPoints)\n",
    "    norm_unif_z = np.random.uniform(0,15,initPoints) #* np.random.normal(loc=0, scale=1.0, size=initPoints)\n",
    "  \n",
    "    \n",
    "    for i in range(0,initPoints):\n",
    "        x=[]\n",
    "        y=[]\n",
    "        z=[]\n",
    "        \n",
    "        x.append(norm_unif_x[i])\n",
    "        y.append(norm_unif_y[i])\n",
    "        z.append(norm_unif_z[i])\n",
    "        \n",
    "        currVertices.append(eulerIntegrate(x,y,z,ns,time[0],time[1],time[2],time[3]))\n",
    "    #for j in range(0,)\n",
    "    \n",
    "    return currVertices\n"
   ]
  },
  {
   "cell_type": "markdown",
   "id": "5514de77",
   "metadata": {
    "scrolled": false
   },
   "source": [
    "plot=k3d.plot()\n",
    "initPoints = 30\n",
    "allAround = np.empty(initPoints, dtype = object)\n",
    "vertices = randVertices(t30,0.5,initPoints)\n",
    "for j in range(0,initPoints):\n",
    "    allAround[j]=k3d.line(vertices[j],shader='simple',color=0x028260,width=0.01,opacity=0.4)\n",
    "plot+= allAround.sum()\n",
    "plot.display()"
   ]
  },
  {
   "cell_type": "markdown",
   "id": "382fe70f",
   "metadata": {},
   "source": [
    "np.random.seed(6)\n",
    "plot = k3d.plot()\n",
    "norm_unif_x = np.random.uniform(10,40,50) * np.random.power(3.0,size=50)\n",
    "norm_unif_y = np.random.uniform(-20.0,19.75,50) * np.random.normal(loc=0, scale=1.0, size=50)\n",
    "norm_unif_z = np.random.uniform(-5,5,50) * np.random.normal(loc=0, scale=1.0, size=50)\n",
    "vertices=np.transpose(np.array([norm_unif_x,norm_unif_y,norm_unif_z]))\n",
    "print(norm_unif_y)\n",
    "plot+=k3d.points(vertices)\n",
    "plot.display()\n"
   ]
  },
  {
   "cell_type": "markdown",
   "id": "85b29a40",
   "metadata": {},
   "source": [
    "np.random.seed(6)\n",
    "plot = k3d.plot()\n",
    "norm_unif_x = np.random.uniform(0,50,10) * np.random.power(3.0,size=10)\n",
    "norm_unif_y = np.zeros((10))\n",
    "norm_unif_z = np.random.uniform(-20.5,20.0,10) * np.random.normal(loc=0, scale=1.0, size=10)\n",
    "vertices=np.transpose(np.array([norm_unif_x,norm_unif_y,norm_unif_z]))\n",
    "print(norm_unif_y)\n",
    "plot+=k3d.points(vertices)\n",
    "plot.display()\n"
   ]
  },
  {
   "cell_type": "markdown",
   "id": "48d5c89e",
   "metadata": {},
   "source": [
    "initial_array = np.array([[np.random.uniform(0.0,39.3,initPoints)],[np.random.uniform(-20.0,19.75,initPoints)],[np.random.uniform(-20.5,20.0,initPoints)]])\n",
    "print(initial_array.shape)\n",
    "print(initial_array)\n",
    "print(initial_array[0,0])"
   ]
  },
  {
   "cell_type": "markdown",
   "id": "6ff58983",
   "metadata": {},
   "source": [
    "# Interactive 2D pick Seed Points\n",
    "Idea: Is there a way to identify where the characteristic I want is on the 2D images and use that to determine where to put the lines"
   ]
  },
  {
   "cell_type": "markdown",
   "id": "f83112b2-d890-4490-a640-7cfffd54cb2e",
   "metadata": {},
   "source": [
    "matplotlib inline works but doesn't append stuff, widget/notebook doesn't work cus I get an ipython is not defined error, don't know what's going on with the ipympl stuff"
   ]
  },
  {
   "cell_type": "code",
   "execution_count": 16,
   "id": "13a4f78a",
   "metadata": {},
   "outputs": [
    {
     "data": {
      "application/vnd.jupyter.widget-view+json": {
       "model_id": "7917f9ffe413400cb6b17928343fd241",
       "version_major": 2,
       "version_minor": 0
      },
      "text/plain": [
       "HTML(value='Event information appears here when you click on the figure')"
      ]
     },
     "metadata": {},
     "output_type": "display_data"
    },
    {
     "data": {
      "application/vnd.jupyter.widget-view+json": {
       "model_id": "83d79129d1c14671947ddc6107933253",
       "version_major": 2,
       "version_minor": 0
      },
      "image/png": "[encoded data removed]",
      "text/html": [
       "\n",
       "            <div style=\"display: inline-block;\">\n",
       "                <div class=\"jupyter-widgets widget-label\" style=\"text-align: center;\">\n",
       "                    Figure\n",
       "                </div>\n",
       "                <img src='data:image/png;base64,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' width=640.0/>\n",
       "            </div>\n",
       "        "
      ],
      "text/plain": [
       "Canvas(toolbar=Toolbar(toolitems=[('Home', 'Reset original view', 'home', 'home'), ('Back', 'Back to previous …"
      ]
     },
     "metadata": {},
     "output_type": "display_data"
    }
   ],
   "source": [
    "import matplotlib\n",
    "matplotlib.use('Agg')\n",
    "import matplotlib.pyplot as plt\n",
    "import matplotlib.image as mpimg\n",
    "\n",
    "%matplotlib ipympl\n",
    "import ipywidgets as widgets\n",
    "from datetime import datetime\n",
    "\n",
    "\n",
    "fig, ax = plt.subplots()\n",
    "ax.plot(np.random.rand(10))\n",
    "\n",
    "w = widgets.HTML(\"Event information appears here when you click on the figure\")\n",
    "\n",
    "def onclick(event):\n",
    "    w.value = 'button=%d, x=%d, y=%d, xdata=%f, ydata=%f'%(\n",
    "              event.button, event.x, event.y, event.xdata, event.ydata)\n",
    "\n",
    "cid = fig.canvas.mpl_connect('button_press_event', onclick)\n",
    "display(w)"
   ]
  },
  {
   "cell_type": "code",
   "execution_count": 17,
   "id": "5d5b1cb7",
   "metadata": {},
   "outputs": [],
   "source": [
    "#%matplotlib tk\n",
    "from __future__ import print_function\n",
    "from ipywidgets import interact, interactive, fixed, interact_manual\n",
    "import ipywidgets as widgets\n",
    "\n",
    "#import ipywidgets as widgets\n",
    "#from datetime import datetime\n",
    "#from ipywidgets import interact, interactive, fixed, interact_manual\n",
    "#from IPython.display import display"
   ]
  },
  {
   "cell_type": "markdown",
   "id": "3faa7fa9",
   "metadata": {
    "scrolled": false
   },
   "source": [
    "iy=ny//2\n",
    "\n",
    "#creates xz plane\n",
    "xx,zz=np.meshgrid(x0,z0)\n",
    "rr=np.sqrt(xx**2+zz**2)\n",
    "#gets Bx, By, and Bz data at designated y-value (0)\n",
    "#Bx1=data1.Bx[:,iy]\n",
    "#By1=data1.By[:,iy]\n",
    "#Bz1=data1.Bz[:,iy]\n",
    "Bx1=t30[1,:,iy,:]\n",
    "By1=t30[2,:,iy,:]\n",
    "Bz1=t30[3,:,iy,:]\n",
    "\n",
    "\n",
    "vlim=10\n",
    "fig=plt.figure(figsize=(9,8))\n",
    "ax=fig.add_subplot(111)\n",
    "\n",
    "im=plt.pcolormesh(xx,zz,(By1*rr),vmin=-vlim,vmax=vlim,\n",
    "          cmap='bwr',shading='gouraud')\n",
    "\n",
    "plt.streamplot(xx,zz,Bx1,Bz1,density=2,color='k',linewidth=0.5)\n",
    "\n",
    "#Formatting\n",
    "ax.set_xlim([0,xmax])\n",
    "ax.set_ylim([-zmax,zmax])\n",
    "ax.set_aspect('equal')\n",
    "plt.xlabel(\"x\")\n",
    "plt.ylabel(\"z\")\n",
    "divider = make_axes_locatable(ax)\n",
    "cax = divider.append_axes(\"right\", size=\"5%\", pad=0.05)\n",
    "plt.colorbar(im, cax=cax)\n",
    "plt.title('By*r')\n",
    "plt.tight_layout()\n",
    "ax.grid()\n",
    "plt.savefig(\"./t30y0Slice\")\n",
    "plt.show()"
   ]
  },
  {
   "cell_type": "code",
   "execution_count": 18,
   "id": "ae644bf6",
   "metadata": {},
   "outputs": [],
   "source": [
    "def getSeedPoints(clicks,time, i):\n",
    "    \n",
    "    \n",
    "    iy=i + ny//2\n",
    "#creates xz plane\n",
    "    xx,zz=np.meshgrid(x0,z0)\n",
    "    rr=np.sqrt(xx**2+zz**2+y0[iy]**2)\n",
    "#gets Bx, By, and Bz data at designated y-value (0)\n",
    "#Bx1=data1.Bx[:,iy]\n",
    "#By1=data1.By[:,iy]\n",
    "#Bz1=data1.Bz[:,iy]\n",
    "    Bx1=time[1,:,iy,:]\n",
    "    By1=time[2,:,iy,:]\n",
    "    Bz1=time[3,:,iy,:]\n",
    "\n",
    "\n",
    "    vlim=10\n",
    "    fig=plt.figure(figsize=(9,8))\n",
    "    ax=fig.add_subplot(111)\n",
    "\n",
    "    im=plt.pcolormesh(xx,zz,(By1*rr),vmin=-vlim,vmax=vlim,\n",
    "          cmap='bwr',shading='gouraud')\n",
    "\n",
    "    plt.streamplot(xx,zz,Bx1,Bz1,density=2,color='k',linewidth=0.5)\n",
    "\n",
    "#Formatting\n",
    "    ax.set_xlim([0,xmax])\n",
    "    ax.set_ylim([-zmax,zmax])\n",
    "    ax.set_aspect('equal')\n",
    "    plt.xlabel(\"x\")\n",
    "    plt.ylabel(\"z\")\n",
    "    divider = make_axes_locatable(ax)\n",
    "    cax = divider.append_axes(\"right\", size=\"5%\", pad=0.05)\n",
    "    plt.colorbar(im, cax=cax)\n",
    "    plt.title('By*r')\n",
    "    plt.tight_layout()\n",
    "    ax.grid()\n",
    "#plt.savefig(\"./t30y0Slice\")\n",
    "    plt.show()\n",
    "        \n",
    "\n",
    "    #w = widgets.HTML(\"Event information appears here when you click on the figure\")\n",
    "\n",
    "    def onclick(event):\n",
    "        clicks.append([event.xdata,y0[iy],event.ydata])\n",
    "     #   w.value = 'button=%d, x=%d, y=%d, xdata=%f, ydata=%f'%(\n",
    "      #        event.button, event.x, event.y, event.xdata, event.ydata)\n",
    "    \n",
    "    #button = widgets.Button(description=\"Done with image!\")\n",
    "    #output = widgets.Output()\n",
    "\n",
    "    #display(button, output)\n",
    "    \n",
    "   # def on_button_clicked(b):\n",
    "    #    with output:\n",
    "     #       print(\"Button clicked.\")\n",
    "      #      print(clicks)\n",
    "       #     output.clear_output()\n",
    "            #clicks.append(getSeedPoints(time,i+1))\n",
    "            \n",
    "            #break\n",
    "        \n",
    "    cid = fig.canvas.mpl_connect('button_press_event', onclick)\n",
    "    #button.on_click(on_button_clicked)\n",
    "        #button.on_click(break)\n",
    "\n",
    "   \n",
    "    #display(w)\n",
    "   \n",
    "    return clicks"
   ]
  },
  {
   "cell_type": "markdown",
   "id": "d1ce97d0",
   "metadata": {},
   "source": [
    "## Plot image with this method"
   ]
  },
  {
   "cell_type": "markdown",
   "id": "74eab457",
   "metadata": {},
   "source": [
    "### Pick out seed points"
   ]
  },
  {
   "cell_type": "code",
   "execution_count": 21,
   "id": "c899b215",
   "metadata": {
    "scrolled": true
   },
   "outputs": [
    {
     "data": {
      "application/vnd.jupyter.widget-view+json": {
       "model_id": "64c1f723c3c14996aea91dcd0f11849d",
       "version_major": 2,
       "version_minor": 0
      },
      "text/plain": [
       "interactive(children=(IntText(value=-3, description='i'), Output()), _dom_classes=('widget-interact',))"
      ]
     },
     "metadata": {},
     "output_type": "display_data"
    },
    {
     "data": {
      "text/plain": [
       "<function __main__.getSeedPoints(clicks, time, i)>"
      ]
     },
     "execution_count": 21,
     "metadata": {},
     "output_type": "execute_result"
    }
   ],
   "source": [
    "click = []\n",
    "interact(getSeedPoints,clicks=fixed(click),time=fixed(t30),i=widgets.IntText(value=-3.0))"
   ]
  },
  {
   "cell_type": "markdown",
   "id": "7d2da61a",
   "metadata": {},
   "source": [
    "### Plot out from these seed points"
   ]
  },
  {
   "cell_type": "code",
   "execution_count": 22,
   "id": "cec9b298",
   "metadata": {},
   "outputs": [
    {
     "name": "stdout",
     "output_type": "stream",
     "text": [
      "(24, 3)\n"
     ]
    }
   ],
   "source": [
    "print(np.asarray(click).shape)"
   ]
  },
  {
   "cell_type": "code",
   "execution_count": 24,
   "id": "2e466e53",
   "metadata": {},
   "outputs": [
    {
     "name": "stderr",
     "output_type": "stream",
     "text": [
      "/ugrad/t.a.thomas/.local/lib/python3.9/site-packages/traittypes/traittypes.py:97: UserWarning: Given trait value dtype \"float64\" does not match required type \"float32\". A coerced copy has been created.\n",
      "  warnings.warn(\n"
     ]
    },
    {
     "data": {
      "application/vnd.jupyter.widget-view+json": {
       "model_id": "20a977058939426198f49ad8edb6dc95",
       "version_major": 2,
       "version_minor": 0
      },
      "text/plain": [
       "Output()"
      ]
     },
     "metadata": {},
     "output_type": "display_data"
    }
   ],
   "source": [
    "#this creates a plot from the specially chosen seed lines\n",
    "plot=k3d.plot()\n",
    "click = np.asarray(click)\n",
    "\n",
    "allAround = np.empty(click.shape[0], dtype = object)\n",
    "\n",
    "\n",
    "si=0\n",
    "sf=100\n",
    "ns = int((sf-si)/0.05)\n",
    "vertices = []\n",
    "\n",
    "\n",
    "for i in range(0,click.shape[0]):\n",
    "    x=[]\n",
    "    y=[]\n",
    "    z=[]\n",
    "        \n",
    "    x.append(click[i,0])\n",
    "    y.append(click[i,1])\n",
    "    z.append(click[i,2])\n",
    "        \n",
    "    vertices.append(eulerIntegrate(x,y,z,ns,t30[0],t30[1],t30[2],t30[3]))\n",
    "\n",
    "for j in range(0,click.shape[0]):\n",
    "    allAround[j]=k3d.line(vertices[j],shader='simple',color=0x028260,width=0.01,opacity=0.5)\n",
    "plot+= allAround.sum()\n",
    "plot.display()"
   ]
  },
  {
   "cell_type": "code",
   "execution_count": 25,
   "id": "4bba0c14",
   "metadata": {},
   "outputs": [
    {
     "data": {
      "application/vnd.jupyter.widget-view+json": {
       "model_id": "ccd779f0a27c4bb287b0697a6809176e",
       "version_major": 2,
       "version_minor": 0
      },
      "text/plain": [
       "Output()"
      ]
     },
     "metadata": {},
     "output_type": "display_data"
    }
   ],
   "source": [
    "#this produces a plot of both some standard field lines chosen from around the star and field lines from specially chosen seed points\n",
    "plot=k3d.plot()\n",
    "click = np.asarray(click)\n",
    "nn=10\n",
    "theta0=data1.conf['theta0']\n",
    "dr=0.3*data1.conf['drpert']\n",
    "r0=1.1\n",
    "ths=np.arange(0,2.0*np.pi-0.1,np.pi/nn)\n",
    "\n",
    "allAround = np.empty(click.shape[0]+nn, dtype = object)\n",
    "si=0\n",
    "sf=100\n",
    "ns = int((sf-si)/0.05)\n",
    "vertices = []\n",
    "\n",
    "seeds=np.array([dr*np.cos(ths)*np.cos(theta0)+r0*np.sin(theta0),dr*np.sin(ths),\n",
    "                    -dr*np.cos(ths)*np.sin(theta0)+r0*np.cos(theta0)]).T\n",
    "for vert in seeds:\n",
    "    x=[]\n",
    "    y=[]\n",
    "    z=[]\n",
    "        \n",
    "    x.append(vert[0])\n",
    "    y.append(vert[1])\n",
    "    z.append(vert[2])\n",
    "    vertices.append(eulerIntegrate(x,y,z,ns,t30[0],t30[1],t30[2],t30[3]))\n",
    "for i in range(0,click.shape[0]):\n",
    "    x=[]\n",
    "    y=[]\n",
    "    z=[]\n",
    "        \n",
    "    x.append(click[i,0])\n",
    "    y.append(click[i,1])\n",
    "    z.append(click[i,2])\n",
    "        \n",
    "    vertices.append(eulerIntegrate(x,y,z,ns,t30[0],t30[1],t30[2],t30[3]))\n",
    "for j in range(0,click.shape[0]+nn):\n",
    "    allAround[j]=k3d.line(vertices[j],shader='simple',color=0x028260,width=0.01,opacity=0.5)\n",
    "plot+= allAround.sum()\n",
    "plot.display()"
   ]
  },
  {
   "cell_type": "code",
   "execution_count": 23,
   "id": "8a18fba2",
   "metadata": {},
   "outputs": [],
   "source": [
    "#trying to essentially make a function to make plots like the one above??\n",
    "def drawAllFieldlineMlab(dr=0.8,nn=20,fldcolor=(0,0.5,0),**kwargs):\n",
    "    theta0=conf['theta0']\n",
    "    r0=1.1\n",
    "    ths=np.arange(0,2.0*np.pi-0.1,np.pi/nn)\n",
    "    seeds=np.array([dr*np.cos(ths)*np.cos(theta0)+r0*np.sin(theta0),dr*np.sin(ths),\n",
    "                    -dr*np.cos(ths)*np.sin(theta0)+r0*np.cos(theta0)]).T\n",
    "    for p in seeds:\n",
    "        ys=IntegrateFieldline(p,data.Bx,data.By,data.Bz)\n",
    "        drawFieldlineMlab(ys,color=fldcolor,tube_radius=0.1,**kwargs)"
   ]
  },
  {
   "cell_type": "markdown",
   "id": "fcd8198f",
   "metadata": {},
   "source": [
    "## Plot video with this message"
   ]
  },
  {
   "cell_type": "code",
   "execution_count": 19,
   "id": "47d1395e",
   "metadata": {},
   "outputs": [],
   "source": [
    "def getSeedPointsVid(clicks,t, i):\n",
    "    \n",
    "    snap = h5py.File('/faculty/yyuan/data/3d_downsample/Data/fld.000'+\"{:02d}\".format(t)+\".h5\",'r')\n",
    "    time=np.asarray([np.sqrt(np.square(np.asarray(snap['Bx']))+np.square(np.asarray(snap['By']))+np.square(np.asarray(snap['Bz']))), np.asarray(snap['Bx']), np.asarray(snap['By']), np.asarray(snap['Bz'])])\n",
    "    \n",
    "    iy=i + ny//2\n",
    "\n",
    "    xx,zz=np.meshgrid(x0,z0)\n",
    "    rr=np.sqrt(xx**2+zz**2+y0[iy]**2)\n",
    "\n",
    "    Bx1=time[1,:,iy,:]\n",
    "    By1=time[2,:,iy,:]\n",
    "    Bz1=time[3,:,iy,:]\n",
    "\n",
    "\n",
    "    vlim=10\n",
    "    fig=plt.figure(figsize=(9,8))\n",
    "    ax=fig.add_subplot(111)\n",
    "\n",
    "    im=plt.pcolormesh(xx,zz,(By1*rr),vmin=-vlim,vmax=vlim,\n",
    "          cmap='bwr',shading='gouraud')\n",
    "\n",
    "    plt.streamplot(xx,zz,Bx1,Bz1,density=2,color='k',linewidth=0.5)\n",
    "\n",
    "#Formatting\n",
    "    ax.set_xlim([0,xmax])\n",
    "    ax.set_ylim([-zmax,zmax])\n",
    "    ax.set_aspect('equal')\n",
    "    plt.xlabel(\"x\")\n",
    "    plt.ylabel(\"z\")\n",
    "    divider = make_axes_locatable(ax)\n",
    "    cax = divider.append_axes(\"right\", size=\"5%\", pad=0.05)\n",
    "    plt.colorbar(im, cax=cax)\n",
    "    plt.title('By*r')\n",
    "    plt.tight_layout()\n",
    "    ax.grid()\n",
    "    plt.show()\n",
    "        \n",
    "\n",
    "    def onclick(event):\n",
    "        clicks.append([event.xdata,y0[iy],event.ydata])\n",
    "        \n",
    "    cid = fig.canvas.mpl_connect('button_press_event', onclick)\n",
    "   \n",
    "    return clicks"
   ]
  },
  {
   "cell_type": "markdown",
   "id": "ed99c905",
   "metadata": {},
   "source": [
    "### Pick out seed points for multiple times\n",
    "specifically pick out new seed points every 5/10 timesteps (will try it out and then see)\n",
    "\n",
    "should make a new getSeedPoints function where I pass an int for the time and then get the file within the function"
   ]
  },
  {
   "cell_type": "code",
   "execution_count": 20,
   "id": "4bc6abcf",
   "metadata": {},
   "outputs": [
    {
     "data": {
      "application/vnd.jupyter.widget-view+json": {
       "model_id": "620478d7f04f45a6af9815364a89d9a3",
       "version_major": 2,
       "version_minor": 0
      },
      "text/plain": [
       "interactive(children=(Dropdown(description='t', options=(('t0', 0), ('t10', 10)), value=0), IntText(value=-2, …"
      ]
     },
     "metadata": {},
     "output_type": "display_data"
    },
    {
     "data": {
      "text/plain": [
       "<function __main__.getSeedPointsVid(clicks, t, i)>"
      ]
     },
     "execution_count": 20,
     "metadata": {},
     "output_type": "execute_result"
    }
   ],
   "source": [
    "timeStep = 20\n",
    "#the check points are the timesteps at which we want to get new seed points\n",
    "\n",
    "checkPoints =[]\n",
    "seedPoints0= []\n",
    "seedPoints1=[]\n",
    "allTimeSeedPoints=[]\n",
    "\n",
    "#for t in range(0,timeStep+1,10):\n",
    "    #checkPointVals = []\n",
    " #   snap = h5py.File('/faculty/yyuan/data/3d_downsample/Data/fld.000'+\"{:02d}\".format(t)+\".h5\",'r')\n",
    "    #checkPointVals = checkPointVals.append([np.sqrt(np.square(np.asarray(snap['Bx']))+np.square(np.asarray(snap['By']))+np.square(np.asarray(snap['Bz']))), np.asarray(snap['Bx']), np.asarray(snap['By']), np.asarray(snap['Bz'])])\n",
    "  #  checkPoints.append((\"{:02d}\".format(t),[np.sqrt(np.square(np.asarray(snap['Bx']))+np.square(np.asarray(snap['By']))+np.square(np.asarray(snap['Bz']))), np.asarray(snap['Bx']), np.asarray(snap['By']), np.asarray(snap['Bz'])]))\n",
    "\n",
    "#checkPoints\n",
    "click = []\n",
    "#have to make it so clicks is based on time option\n",
    "interact(getSeedPointsVid,clicks=fixed(allTimeSeedPoints),t=[('t0',0),('t10',10)],i=widgets.IntText(value=-2))\n",
    "    \n"
   ]
  },
  {
   "cell_type": "code",
   "execution_count": 22,
   "id": "342ad424-60cf-4a98-9b33-cf28d42e280a",
   "metadata": {},
   "outputs": [
    {
     "data": {
      "text/plain": [
       "[[3.5664026145595074, -0.25, 2.8674752543576005],\n",
       " [2.980788607145673, -0.25, 3.2774050595472843],\n",
       " [5.616051640507926, -0.25, 3.9215804677025012],\n",
       " [0.989700981938638, -0.25, 3.160282258064516],\n",
       " [2.570858801955989, -0.25, 1.754808640271314],\n",
       " [2.570858801955989, 0.0, 2.5043947484762334],\n",
       " [3.039350007887057, -0.125, 1.9890542432368505],\n",
       " [2.160928996766306, -0.125, 2.4575454491679167],\n",
       " [2.2780517982490727, -0.125, 3.160282258064516],\n",
       " [1.5753149893524716, -0.125, 2.516106849909299],\n",
       " [1.223946584904172, -0.125, 3.628773463995582],\n",
       " [3.917771019007807, -0.125, 4.565755875857718],\n",
       " [5.557490239766542, -0.125, 6.381159298840604],\n",
       " [2.336613198990456, 0.0, 2.2232998462023836],\n",
       " [2.805104404921524, 0.0, 2.926036655098983],\n",
       " [1.0482623826800213, 0.0, 2.516106849909299],\n",
       " [3.039350007887057, 0.0, 3.687334864736968]]"
      ]
     },
     "execution_count": 22,
     "metadata": {},
     "output_type": "execute_result"
    }
   ],
   "source": [
    "allTimeSeedPoints"
   ]
  },
  {
   "cell_type": "markdown",
   "id": "d6cbc0e1",
   "metadata": {},
   "source": [
    "### Plot out from these seed points"
   ]
  },
  {
   "cell_type": "code",
   "execution_count": 24,
   "id": "dd4f3cc2-2f58-435d-80bf-d5fd4a371349",
   "metadata": {},
   "outputs": [
    {
     "data": {
      "application/vnd.jupyter.widget-view+json": {
       "model_id": "29e4b8388004477abcee272afb59e01f",
       "version_major": 2,
       "version_minor": 0
      },
      "text/plain": [
       "Output()"
      ]
     },
     "metadata": {},
     "output_type": "display_data"
    },
    {
     "name": "stdout",
     "output_type": "stream",
     "text": [
      "1\n"
     ]
    },
    {
     "name": "stderr",
     "output_type": "stream",
     "text": [
      "/tmp/ipykernel_2901663/930168959.py:65: DeprecationWarning: `product` is deprecated as of NumPy 1.25.0, and will be removed in NumPy 2.0. Please use `prod` instead.\n",
      "  snap = np.asarray([np.sqrt(np.square(np.asarray(snap['Bx']))+np.square(np.asarray(snap['By']))+np.square(np.asarray(snap['Bz']))), np.asarray(snap['Bx']), np.asarray(snap['By']), np.asarray(snap['Bz']),np.sqrt(np.square(np.asarray(snap['Ex']))+np.square(np.asarray(snap['Ey']))+np.square(np.asarray(snap['Ez'])))])\n"
     ]
    },
    {
     "name": "stdout",
     "output_type": "stream",
     "text": [
      "2\n",
      "3\n",
      "4\n",
      "5\n",
      "6\n",
      "7\n",
      "8\n",
      "9\n",
      "10\n",
      "11\n",
      "12\n",
      "13\n",
      "14\n",
      "15\n"
     ]
    }
   ],
   "source": [
    "plot=k3d.plot(grid=(xmin,ymin,zmin,xmax,ymax,zmax))\n",
    "twistthLoops = 3\n",
    "twistphiLoops = 3\n",
    "currthLoops = 3\n",
    "timeStep = 15\n",
    "click = np.asarray(allTimeSeedPoints)\n",
    "nn=10\n",
    "theta0=data1.conf['theta0']\n",
    "dr=0.3*data1.conf['drpert']\n",
    "r0=1.1\n",
    "ths=np.arange(0,2.0*np.pi-0.1,np.pi/nn)\n",
    "allAround = np.empty(click.shape[0]+nn, dtype = object)\n",
    "si=0\n",
    "sf=100\n",
    "ns = int((sf-si)/0.05)\n",
    "vertices = []\n",
    "\n",
    "seeds=np.array([dr*np.cos(ths)*np.cos(theta0)+r0*np.sin(theta0),dr*np.sin(ths),\n",
    "                    -dr*np.cos(ths)*np.sin(theta0)+r0*np.cos(theta0)]).T\n",
    "perturbationArea = np.empty([seeds.shape[0]],dtype=object)\n",
    "perturbationAreaPics = np.empty([seeds.shape[0]], dtype=dict)\n",
    "\n",
    "handpickedSeeds = np.empty([click.shape[0]], dtype=object)\n",
    "handpickedSeedsPics = np.empty([click.shape[0]],dtype=dict)\n",
    "i=0\n",
    "for vert in seeds:\n",
    "        x=[]\n",
    "        y=[]\n",
    "        z=[]\n",
    "        \n",
    "        x.append(vert[0])\n",
    "        y.append(vert[1])\n",
    "        z.append(vert[2])\n",
    "        vertices.append(eulerIntegrate(x,y,z,ns,t0[0],t0[1],t0[2],t0[3]))\n",
    "        perturbationArea[i] = k3d.line(vertices[i],shader='mesh',color=0x028260,width=0.05,opacity=0.5)\n",
    "        perturbationAreaPics[i]=dict({0:vertices[i]})\n",
    "        i=i+1\n",
    "\n",
    "vertices=[]\n",
    "n=0\n",
    "for i in range(0,click.shape[0]):\n",
    "        x=[]\n",
    "        y=[]\n",
    "        z=[]\n",
    "        \n",
    "        x.append(click[i,0])\n",
    "        y.append(click[i,1])\n",
    "        z.append(click[i,2])\n",
    "        \n",
    "        vertices.append(eulerIntegrate(x,y,z,ns,t0[0],t0[1],t0[2],t0[3]))\n",
    "        handpickedSeeds[n]=k3d.line(vertices[n],shader='mesh',color=0x028260,width=0.05,opacity=0.5)\n",
    "        handpickedSeedsPics[n]= dict({0:vertices[n]})\n",
    "        n=n+1\n",
    "\n",
    "plot+=perturbationArea.sum()\n",
    "plot+=handpickedSeeds.sum()\n",
    "plot+=k3d.points([0,0,0],point_size=2.0, color=0xa92f63,shader='3d')\n",
    "plot+=k3d.points([40,25,25],point_size=2.0, color=0xa92f63,shader='3d',opacity=0.01)\n",
    "plot.snapshot_type = 'online'\n",
    "plot.display()  \n",
    "\n",
    "for t in range(1,timeStep+1):\n",
    "    print(t)\n",
    "    snap = h5py.File('/faculty/yyuan/data/3d_downsample/Data/fld.000'+\"{:02d}\".format(t)+\".h5\",'r')\n",
    "    snap = np.asarray([np.sqrt(np.square(np.asarray(snap['Bx']))+np.square(np.asarray(snap['By']))+np.square(np.asarray(snap['Bz']))), np.asarray(snap['Bx']), np.asarray(snap['By']), np.asarray(snap['Bz']),np.sqrt(np.square(np.asarray(snap['Ex']))+np.square(np.asarray(snap['Ey']))+np.square(np.asarray(snap['Ez'])))])\n",
    "    \n",
    "    i=0\n",
    "    for vert in seeds:\n",
    "        x=[]\n",
    "        y=[]\n",
    "        z=[]\n",
    "        \n",
    "        x.append(vert[0])\n",
    "        y.append(vert[1])\n",
    "        z.append(vert[2])\n",
    "        vertices.append(eulerIntegrate(x,y,z,ns,snap[0],snap[1],snap[2],snap[3]))\n",
    "        perturbationAreaPics[i][t-1]=vertices[i]\n",
    "        i=i+1\n",
    "\n",
    "    vertices=[]\n",
    "    n=0\n",
    "    for i in range(0,click.shape[0]):\n",
    "        x=[]\n",
    "        y=[]\n",
    "        z=[]\n",
    "        \n",
    "        x.append(click[i,0])\n",
    "        y.append(click[i,1])\n",
    "        z.append(click[i,2])\n",
    "        \n",
    "        vertices.append(eulerIntegrate(x,y,z,ns,snap[0],snap[1],snap[2],snap[3]))\n",
    "        handpickedSeedsPics[n][t-1]=vertices[n]\n",
    "        n=n+1\n",
    "\n",
    "\n",
    "for vertIndex in range(0,seeds.shape[0]):\n",
    "    perturbationArea[vertIndex].vertices = perturbationAreaPics[vertIndex]\n",
    "\n",
    "for vertIndex in range(0,click.shape[0]):\n",
    "    handpickedSeeds[vertIndex].vertices = handpickedSeedsPics[vertIndex]\n",
    "\n",
    "\n",
    "data = plot.get_snapshot()\n",
    "\n",
    "with open('snapshot_online.html', 'w') as f:\n",
    "    f.write(data)"
   ]
  },
  {
   "cell_type": "markdown",
   "id": "3ebe0462-aa94-48e1-ac0f-5d3a43a6d57b",
   "metadata": {},
   "source": [
    "# 2D Plot"
   ]
  },
  {
   "cell_type": "code",
   "execution_count": null,
   "id": "10f87e49",
   "metadata": {},
   "outputs": [],
   "source": [
    "ix=nx//2\n",
    "\n",
    "#creates xy plane\n",
    "yy,zz=np.meshgrid(y0,z0)\n",
    "rr=np.sqrt(yy**2+zz**2)\n",
    "\n",
    "#gets Bx, By, and Bz data at designated z-value (0)\n",
    "Bx1=data1.Bx[:,ix]\n",
    "By1=data1.By[:,ix]\n",
    "Bz1=data1.Bz[:,ix]\n",
    "\n",
    "vlim=20\n",
    "fig=plt.figure(figsize=(9,8))\n",
    "ax=fig.add_subplot(111)\n",
    "\n",
    "im=plt.pcolormesh(yy,zz,(Bz1*rr),vmin=-vlim,vmax=vlim,\n",
    "          cmap='bwr',shading='gouraud')\n",
    "\n",
    "plt.streamplot(yy,zz,By1,Bz1,density=2,color='k',linewidth=0.5)\n",
    "\n",
    "#Formatting\n",
    "ax.set_xlim([0,xmax])\n",
    "ax.set_ylim([-ymax,ymax])\n",
    "ax.set_aspect('equal')\n",
    "plt.xlabel(\"x\")\n",
    "plt.ylabel(\"y\")\n",
    "divider = make_axes_locatable(ax)\n",
    "cax = divider.append_axes(\"right\", size=\"5%\", pad=0.05)\n",
    "plt.colorbar(im, cax=cax)\n",
    "plt.title('Bz*r')\n",
    "plt.tight_layout()\n",
    "plt.show()"
   ]
  },
  {
   "cell_type": "code",
   "execution_count": null,
   "id": "e561a84f",
   "metadata": {},
   "outputs": [],
   "source": []
  }
 ],
 "metadata": {
  "kernelspec": {
   "display_name": "Python 3 (ipykernel)",
   "language": "python",
   "name": "python3"
  },
  "language_info": {
   "codemirror_mode": {
    "name": "ipython",
    "version": 3
   },
   "file_extension": ".py",
   "mimetype": "text/x-python",
   "name": "python",
   "nbconvert_exporter": "python",
   "pygments_lexer": "ipython3",
   "version": "3.9.21"
  }
 },
 "nbformat": 4,
 "nbformat_minor": 5
}
